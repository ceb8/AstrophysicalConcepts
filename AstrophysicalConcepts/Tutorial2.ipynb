{
 "cells": [
  {
   "cell_type": "markdown",
   "metadata": {},
   "source": [
    "# Tutorial 2"
   ]
  },
  {
   "cell_type": "markdown",
   "metadata": {},
   "source": [
    "Determining system parameters from exoplanet light curves.\n",
    "\n",
    "**Knowns:** $P,M_*,R_*$\n",
    "\n",
    "**From the light curve:** $\\Delta f,T_{dur}$\n",
    "\n",
    "**Assumptions:**\n",
    "- Circular orbit\n",
    "- Knowns assumed to have negligable error\n",
    "- The star is a uniform disc\n",
    "- The planet has albedo 0 and no instrinsic luminosity\n",
    "\n",
    "**We will calculate:**\n",
    "- Orbital Radius ($a$)\n",
    "- Orbital speed ($v$) \n",
    "- Relative sizes of the star and planet ($R_\\oplus/R_*$)\n",
    "- Inclination of the Orbit ($\\alpha$)"
   ]
  },
  {
   "cell_type": "markdown",
   "metadata": {},
   "source": [
    "## The calculations\n",
    "\n",
    "The change in flux is related to the relative radii as:\n",
    "$$\\Delta f = \\frac{R_{\\oplus}^2}{R_{*}^2}$$\n",
    "\n",
    "From Kepler's 3rd law we know:\n",
    "$$\\frac{a^3}{P^2} = \\frac{GM_*}{4\\pi^2}$$\n",
    "\n",
    "We can rearrange this to solve for the orbital radius $a$:\n",
    "$$a = \\left [ \\frac{GM_*P^2}{4\\pi^2} \\right ] ^{1/3}$$\n",
    "\n",
    "The orbital velocity $v$ can be easliey calculated as:\n",
    "$$v = \\frac{2\\pi r}{P}$$\n",
    "where\n",
    "$$r = \\frac{M_* a}{M_* + M_\\oplus}$$\n",
    "Because $M_* >> M_\\oplus$ we can approximate $r = a$, and thus our calculation for $v$ becomes:\n",
    "$$v = \\frac{2\\pi a}{P}$$\n",
    "\n",
    "The derivation for the inclination is complex and involves much trignometry.  \n",
    "I used the derivation given here: https://www.paulanthonywilson.com/exoplanets/exoplanet-detection-techniques/the-exoplanet-transit-method/ and redid all the math to convince myself I understand it.  I won't write it all out here again.  The result is that the inclination from due North (i.e. $90^{\\circ}$ means looking directly edge on) is calculated as:\n",
    "$$i = cos^{-1}\\left ( \\frac{\\sqrt{(R_*+R_\\oplus)^2-(a~sin(\\pi T_{dur}/P))^2}}{a} \\right )$$\n",
    "Since we care more about how far off edge-on we are than how far from North, I will report $\\alpha = 90^{\\circ} - i$.\n",
    "\n",
    "I propagated the uncertaintly in $\\Delta F$ and $T_{dur}$ in the standard manner.  I think I may have a made a mistake in the propagation for the inclination calculation, because those errors seem improbably small.  If I have time I will go back and figure that out before tutorial."
   ]
  },
  {
   "cell_type": "markdown",
   "metadata": {},
   "source": [
    "## The code\n",
    "\n",
    "Since I want to do the same calculations for several light curves I decided to code all this up in Python. Below the function definitions are my results."
   ]
  },
  {
   "cell_type": "code",
   "execution_count": 15,
   "metadata": {},
   "outputs": [],
   "source": [
    "import numpy as np\n",
    "import astropy.units as u\n",
    "from astropy.constants import G, M_sun, R_sun"
   ]
  },
  {
   "cell_type": "code",
   "execution_count": 139,
   "metadata": {
    "collapsed": true
   },
   "outputs": [],
   "source": [
    "def calcRplanet(deltaF, Rstar, deltaFErr = 0):\n",
    "    \"\"\"\n",
    "    Given delta F and R star (should be astromy quantities with units) calculate R planet.\n",
    "    \n",
    "    Error is only assumed to come into play in the deltaF term due to the parameters of the assignment.\n",
    "    \"\"\"\n",
    "    \n",
    "    Rplanet = np.sqrt(deltaF) * Rstar\n",
    "    RplanetErr = Rstar/(2*np.sqrt(deltaF))*deltaFErr\n",
    "    \n",
    "    return Rplanet,RplanetErr"
   ]
  },
  {
   "cell_type": "code",
   "execution_count": 68,
   "metadata": {
    "collapsed": true
   },
   "outputs": [],
   "source": [
    "def calcOrbitalRad(Mstar,P):\n",
    "    \"\"\"\n",
    "    Given the mass of the parent star and period of the planetary orbit, calculated the orbital radius.\n",
    "    \n",
    "    Inputs should be astropy quanities with units.\n",
    "    \n",
    "    No error is assumed due to the parameters of the assignment.\n",
    "    \"\"\"\n",
    "    return ((G*Mstar*(P**2))/(4*(np.pi**2)))**(1/3)"
   ]
  },
  {
   "cell_type": "code",
   "execution_count": 18,
   "metadata": {},
   "outputs": [],
   "source": [
    "def calcOrbitalSpeed(a,P):\n",
    "    \"\"\"\n",
    "    Given the orbital radius and period, calculated the orbital speed.\n",
    "    \n",
    "    Inputs should be astropy quanities with units.\n",
    "    \n",
    "    No error is assumed due to the parameters of the assignment.\n",
    "    \"\"\"\n",
    "    return 2*np.pi*a/P"
   ]
  },
  {
   "cell_type": "code",
   "execution_count": 145,
   "metadata": {},
   "outputs": [],
   "source": [
    "def calcOrbitalInc(Rstar, Rplanet, a, P, Tdur, RplanetErr=0*u.km, TdurErr=0*u.day):\n",
    "    \"\"\"\n",
    "    Given star and planet radii, orbital radius and period, and transit duration, \n",
    "    calculates the orbital inclination.\n",
    "    \n",
    "    Inputs should be astropy quanities with units.\n",
    "    \n",
    "    Error is only assumed to come into play in the Rplanet and Tdur terms due to the parameters of the assignment.\n",
    "    \"\"\"\n",
    "    \n",
    "    # We'll be calculating this in sections to help with the error propagation\n",
    "    X = (Rstar + Rplanet)**2\n",
    "    Xerr = 2*(Rstar + Rplanet) * RplanetErr\n",
    "    \n",
    "    Y = (a*np.sin(np.pi*u.rad*Tdur/P))**2\n",
    "    Yerr = 2*a*np.sin(np.pi*u.rad*Tdur/P)*a*np.cos(np.pi*u.rad*Tdur/P)*np.pi/P*TdurErr\n",
    "    \n",
    "    Z = X - Y\n",
    "    Zerr = np.sqrt(Xerr**2 + Yerr**2)\n",
    "    \n",
    "    Q = np.sqrt(Z)/a\n",
    "    Qerr = Zerr/(2*a*np.sqrt(Z))\n",
    "    \n",
    "    i = np.pi/2*u.rad - np.arccos(Q)\n",
    "    iErr = Qerr/np.sqrt(1-Q**2)\n",
    "      \n",
    "    return i,iErr"
   ]
  },
  {
   "cell_type": "code",
   "execution_count": 160,
   "metadata": {},
   "outputs": [],
   "source": [
    "def getAllParms(parmDict, silent=False):\n",
    "    \"\"\"\n",
    "    Given a dictionary containing the initial set of parameters:\n",
    "        P,Mstar,Rstar,deltaF,Tdur\n",
    "    Calclulate the additional parameters:\n",
    "        Rplanet,a,v,i\n",
    "    And adds them to the original dictionary.\n",
    "        \n",
    "    Parameters\n",
    "    ----------\n",
    "    parmDict : dict\n",
    "        Dictionary with keys \"P\", \"Mstar\", \"Rstar\", \"deltaF\", \"Tdur\".\n",
    "        Dictionary elements must be astrophy quantities with units (except for deltaF which is unitless)\n",
    "    silent : bool, optional\n",
    "        If true, suppresses stdout output.\n",
    "        \n",
    "    \"\"\"\n",
    "    \n",
    "    # Calculating the additional parameters\n",
    "    parmDict[\"Rplanet\"],parmDict[\"RplanetErr\"] = calcRplanet(parmDict[\"deltaF\"], parmDict[\"Rstar\"], \n",
    "                                                             parmDict[\"deltaFErr\"])\n",
    "    parmDict[\"Rp2Rs\"] = parmDict[\"Rplanet\"]/parmDict[\"Rstar\"]\n",
    "    parmDict[\"Rp2RsErr\"] = parmDict[\"RplanetErr\"]/parmDict[\"Rstar\"]\n",
    "    parmDict[\"a\"] = calcOrbitalRad(parmDict[\"Mstar\"],parmDict[\"P\"])\n",
    "    parmDict[\"v\"] = calcOrbitalSpeed(parmDict[\"a\"],parmDict[\"P\"])\n",
    "    parmDict[\"i\"],parmDict[\"iErr\"] = calcOrbitalInc(parmDict[\"Rstar\"],parmDict[\"Rplanet\"],parmDict[\"a\"],\n",
    "                                    parmDict[\"P\"],parmDict[\"Tdur\"],parmDict[\"RplanetErr\"],parmDict[\"TdurErr\"])\n",
    "\n",
    "    if not silent:\n",
    "        # Printing the results\n",
    "        print(\"R_planet/R_star: {:.2} +/- {:.2}\".format(parmDict[\"Rp2Rs\"],parmDict[\"Rp2RsErr\"]))\n",
    "        print(\"Planet radius: {:.3} +/- {:.3}\".format(parmDict[\"Rplanet\"].to(u.km),parmDict[\"RplanetErr\"].to(u.km)))\n",
    "        print(\"Orbital radius: {:.3}\".format(parmDict[\"a\"].to(u.AU)))\n",
    "        print(\"Orbital velocity: {:.3}\".format(parmDict[\"v\"].to(u.km/u.second)))\n",
    "        print(\"Orbital inclination: {:.3} +/- {:.3}\".format(parmDict[\"i\"].to(u.deg),\n",
    "                                                            (parmDict[\"iErr\"]*u.rad).to(u.deg)))\n",
    "        \n",
    "\n",
    "    "
   ]
  },
  {
   "cell_type": "markdown",
   "metadata": {},
   "source": [
    "## Good Light Curves"
   ]
  },
  {
   "cell_type": "markdown",
   "metadata": {},
   "source": [
    "### Object 230"
   ]
  },
  {
   "cell_type": "code",
   "execution_count": 170,
   "metadata": {},
   "outputs": [
    {
     "name": "stdout",
     "output_type": "stream",
     "text": [
      "R_planet/R_star: 0.18 +/- 0.0057\n",
      "Planet radius: 1.95e+05 km +/- 6.28e+03 km\n",
      "Orbital radius: 4.85 AU\n",
      "Orbital velocity: 16.3 km / s\n",
      "Orbital inclination: 0.0371 deg +/- 0.0144 deg\n"
     ]
    }
   ],
   "source": [
    "# Known parameters\n",
    "object230 = {\"P\":3243.57*u.day,\n",
    "             \"Mstar\":1.45*M_sun,\n",
    "             \"Rstar\":1.591*R_sun}\n",
    "\n",
    "# Paremeters from chart\n",
    "object230[\"deltaF\"] = 0.031\n",
    "object230[\"deltaFErr\"] = 0.002\n",
    "object230[\"Tdur\"] = 1.725*u.day\n",
    "object230[\"TdurErr\"] = 0.1*u.day\n",
    "\n",
    "getAllParms(object230)"
   ]
  },
  {
   "cell_type": "markdown",
   "metadata": {},
   "source": [
    "### Object 240"
   ]
  },
  {
   "cell_type": "code",
   "execution_count": 167,
   "metadata": {},
   "outputs": [
    {
     "name": "stdout",
     "output_type": "stream",
     "text": [
      "R_planet/R_star: 0.16 +/- 0.0078\n",
      "Planet radius: 7.93e+04 km +/- 3.81e+03 km\n",
      "Orbital radius: 1.85 AU\n",
      "Orbital velocity: 19.9 km / s\n",
      "Orbital inclination: 0.0668 deg +/- 0.00296 deg\n"
     ]
    }
   ],
   "source": [
    "# Known parameters\n",
    "object240 = {\"P\":1011.84*u.day,\n",
    "             \"Mstar\":0.82*M_sun,\n",
    "             \"Rstar\":0.707*R_sun}\n",
    "\n",
    "# Paremeters from chart\n",
    "object240[\"deltaF\"] = 0.026\n",
    "object240[\"deltaFErr\"] = 0.0025\n",
    "object240[\"Tdur\"] = 0.55*u.day\n",
    "object240[\"TdurErr\"] = 0.01*u.day\n",
    "\n",
    "getAllParms(object240)"
   ]
  },
  {
   "cell_type": "markdown",
   "metadata": {},
   "source": [
    "## Challenging Light Curves"
   ]
  },
  {
   "cell_type": "markdown",
   "metadata": {},
   "source": [
    "### Object 280"
   ]
  },
  {
   "cell_type": "code",
   "execution_count": 163,
   "metadata": {},
   "outputs": [
    {
     "name": "stdout",
     "output_type": "stream",
     "text": [
      "R_planet/R_star: 0.15 +/- 0.0083\n",
      "Planet radius: 1.45e+05 km +/- 8.04e+03 km\n",
      "Orbital radius: 3.75 AU\n",
      "Orbital velocity: 17.5 km / s\n",
      "Orbital inclination: 0.0262 deg +/- 0.0199 deg\n"
     ]
    }
   ],
   "source": [
    "# Known parameters\n",
    "object280 = {\"P\":2322.74*u.day,\n",
    "             \"Mstar\":1.30*M_sun,\n",
    "             \"Rstar\":1.388*R_sun}\n",
    "\n",
    "# Paremeters from chart\n",
    "object280[\"deltaFErr\"] = 0.0025\n",
    "object280[\"deltaF\"] = 0.0225\n",
    "object280[\"Tdur\"] = 1.425*u.day\n",
    "object280[\"TdurErr\"] = 0.06*u.day\n",
    "\n",
    "getAllParms(object280)"
   ]
  },
  {
   "cell_type": "markdown",
   "metadata": {},
   "source": [
    "### Object 282"
   ]
  },
  {
   "cell_type": "code",
   "execution_count": 169,
   "metadata": {},
   "outputs": [
    {
     "name": "stdout",
     "output_type": "stream",
     "text": [
      "R_planet/R_star: 0.16 +/- 0.0095\n",
      "Planet radius: 6.64e+04 km +/- 3.99e+03 km\n",
      "Orbital radius: 1.65 AU\n",
      "Orbital velocity: 20.1 km / s\n",
      "Orbital inclination: 0.0884 deg +/- 0.00201 deg\n"
     ]
    }
   ],
   "source": [
    "# Known parameters\n",
    "object282 = {\"P\":890.29*u.day,\n",
    "             \"Mstar\":0.75*M_sun,\n",
    "             \"Rstar\":0.604*R_sun}\n",
    "\n",
    "# Paremeters from chart\n",
    "object282[\"deltaF\"] = 0.025\n",
    "object282[\"deltaFErr\"] = 0.003\n",
    "object282[\"Tdur\"] = 0.35*u.day\n",
    "object282[\"TdurErr\"] = 0.01*u.day\n",
    "\n",
    "getAllParms(object282)"
   ]
  },
  {
   "cell_type": "markdown",
   "metadata": {},
   "source": [
    "## Nasty Data"
   ]
  },
  {
   "cell_type": "markdown",
   "metadata": {},
   "source": [
    "### Object 270"
   ]
  },
  {
   "cell_type": "code",
   "execution_count": 166,
   "metadata": {},
   "outputs": [
    {
     "name": "stdout",
     "output_type": "stream",
     "text": [
      "R_planet/R_star: 0.042 +/- 0.018\n",
      "Planet radius: 6.19e+04 km +/- 2.58e+04 km\n",
      "Orbital radius: 1.77 AU\n",
      "Orbital velocity: 30.1 km / s\n",
      "Orbital inclination: 0.201 deg +/- 0.0203 deg\n"
     ]
    }
   ],
   "source": [
    "# Known parameters\n",
    "object270 = {\"P\":639.50*u.day,\n",
    "             \"Mstar\":1.81*M_sun,\n",
    "             \"Rstar\":2.099*R_sun}\n",
    "\n",
    "# Paremeters from chart\n",
    "object270[\"deltaF\"] = 0.0018\n",
    "object270[\"deltaFErr\"] = 0.0015\n",
    "object270[\"Tdur\"] = 0.925*u.day\n",
    "object270[\"TdurErr\"] = 0.05*u.day\n",
    "\n",
    "getAllParms(object270)"
   ]
  },
  {
   "cell_type": "markdown",
   "metadata": {},
   "source": [
    "### Object 290"
   ]
  },
  {
   "cell_type": "code",
   "execution_count": 168,
   "metadata": {},
   "outputs": [
    {
     "name": "stdout",
     "output_type": "stream",
     "text": [
      "R_planet/R_star: 0.057 +/- 0.018\n",
      "Planet radius: 8.72e+04 km +/- 2.72e+04 km\n",
      "Orbital radius: 2.7 AU\n",
      "Orbital velocity: 24.9 km / s\n",
      "Orbital inclination: 0.162 deg +/- 0.0109 deg\n"
     ]
    }
   ],
   "source": [
    "# Known parameters\n",
    "object290 = {\"P\":1177.07*u.day,\n",
    "             \"Mstar\":1.89*M_sun,\n",
    "             \"Rstar\":2.216*R_sun}\n",
    "\n",
    "# Paremeters from chart\n",
    "object290[\"deltaF\"] = 0.0032\n",
    "object290[\"deltaFErr\"] = 0.002\n",
    "object290[\"Tdur\"] = 1.0795*u.day\n",
    "object290[\"TdurErr\"] = 0.06*u.day\n",
    "\n",
    "getAllParms(object290)"
   ]
  },
  {
   "cell_type": "markdown",
   "metadata": {},
   "source": [
    "## Discusion\n",
    "\n",
    "I will go through the assumptions one by one and discuss what would happen if the assumption was not valid.\n",
    "\n",
    "- Circular orbit\n",
    "  This allows us to assume that the planet is the same distance from its parent star at all times. \n",
    "  One of the affects of such an assumption is that while the planet is in front of the star, it blocks a constant area, something that would not be true is the planet varies it's distance from the star.\n",
    "  Aditionally our calculations of how far the planet is from its parent would reflet only its distance from the star during it's transit which could be wildly different than it's average distance depending on where in its orbit we observe it.\n",
    "\n",
    "\n",
    "- Knowns assumed to have negligable error\n",
    "  Obviously if there were non-negligable error bars on all the knowns, we would be less sure of all our conclusions.\n",
    "  Depending on the size of the error bars this could lead to difficulty placing a meaningful range on any parameters.\n",
    "  Esitamtes of $R_*$ affect pretty much all of the calculations, particularly the ability to calculate the planet's radius.\n",
    "  Measurments of $M_*$ and $P$ affect calculation of the orbital radius, which affects analysis of the planetary system becuase of how a planets distance from its parent star affects it's temperature, suseptibility to stellar weather, etc...\n",
    "  The inclination calculation depends on almost all the other system properties, so it is very quickly so affected by compounding uncertainty that it become challenging to say anything meaningful about it.\n",
    "     \n",
    "     \n",
    "- The star is a uniform disc\n",
    "  By assuming the star is a uniform disc we get to assume that the flux from the star does not vary in absence of a planetary transit.  If the star is not a uniform disc we can no longer assume that. Because the star itself is also rotating there will be some sort of cyclical variation in stellar luminosity.  This must be modeled and taken into account when searching for planetary transits (usually via detrending the light curve before looking for transits).\n",
    "  Additionally there may be stochastic luminosity variation such as stellar flares, particularly on younger more active stars.  These variations can't be systematically removed, but can hinder analysis particularly if one occurs close to or during a transit.  Depending on how quiescent stellar flux is being modeled/calculated these stochasic brightenings can also increase uncertaintly of the quiescent flux, or cause overestimation.\n",
    "\n",
    "\n",
    "- The planet has albedo 0 and no instrinsic luminosity\n",
    "  What we get from this assumption is the ability to consider only the star's luminosity, and assume that the planet blocks it perfectly. So when the planet is fully in front of the star the luminosity is the flux of the star times (the area of star we can see minus the area blocked by the planet).  If the planent has intrinsic luminosity or positive albedo, luminosity from the planet itself must also be taken into account when making this calculation.\n",
    "  The result could be underestimating the size of the planet because the flux dip is lessened due to flux from the planet itself.\n",
    "  \n"
   ]
  },
  {
   "cell_type": "code",
   "execution_count": null,
   "metadata": {
    "collapsed": true
   },
   "outputs": [],
   "source": []
  }
 ],
 "metadata": {
  "kernelspec": {
   "display_name": "Python 3",
   "language": "python",
   "name": "python3"
  },
  "language_info": {
   "codemirror_mode": {
    "name": "ipython",
    "version": 3
   },
   "file_extension": ".py",
   "mimetype": "text/x-python",
   "name": "python",
   "nbconvert_exporter": "python",
   "pygments_lexer": "ipython3",
   "version": "3.6.2"
  }
 },
 "nbformat": 4,
 "nbformat_minor": 2
}
